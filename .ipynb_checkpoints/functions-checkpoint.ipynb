{
 "cells": [
  {
   "cell_type": "markdown",
   "id": "0ea8e2bf-689d-464f-85b2-16e4f981c5fc",
   "metadata": {},
   "source": [
    "# Functions In JavaScript"
   ]
  },
  {
   "cell_type": "markdown",
   "id": "229c4faa-4914-4b44-abc5-d7ae5f18a2d9",
   "metadata": {},
   "source": [
    "***"
   ]
  },
  {
   "cell_type": "markdown",
   "id": "a1aae6ec-36b4-4c0d-b130-4a99b93ca515",
   "metadata": {},
   "source": [
    "Documentation located [here](https://www.w3schools.com/js/js_functions.asp)."
   ]
  },
  {
   "cell_type": "markdown",
   "id": "f07f0045-e3c6-4e26-801f-d5a6bda962ff",
   "metadata": {},
   "source": [
    "**Functions:** Functions are one of the fundamental building blocks in JavaScript. A function in\r\n",
    "JavaScript is similar to a procedure—a set of statements that performs a task or calculates a\r\n",
    "value, but for a procedure to qualify as a function, it should take some input and return an\r\n",
    "output. Functions are repeatable lines of code that make our programs neater and easier to\r\n",
    "read and run."
   ]
  },
  {
   "cell_type": "markdown",
   "id": "d26ae8dc-f19c-41c1-a163-f978878e6619",
   "metadata": {},
   "source": [
    "# Defining Functions"
   ]
  },
  {
   "cell_type": "markdown",
   "id": "62318738-9d2a-47f1-bedb-ac1096845abd",
   "metadata": {},
   "source": [
    "***"
   ]
  },
  {
   "cell_type": "markdown",
   "id": "68057dbf-d93c-4b0c-9ea8-fb0440cd7bbf",
   "metadata": {},
   "source": [
    "In JavaScript, in order to create a function there is a syntax that we use. There are multiple\r\n",
    "ways to create functions in Javascript, we will talk about 2 different ways below."
   ]
  },
  {
   "cell_type": "markdown",
   "id": "c8369791-590c-4fc1-b310-7fa90de76796",
   "metadata": {},
   "source": [
    "**Function Declarations:**"
   ]
  },
  {
   "cell_type": "markdown",
   "id": "de695982-0980-43fc-a8a1-41734c771c89",
   "metadata": {},
   "source": [
    "A function definition (also called a function declaration, or function statement) consists of\r\n",
    "the` functio`n keyword, followed by <br> 1. The name of the function <br> 2. A list of parameters to the function, enclosed in parentheses and separated commas. <br> 3. The savaScript statements that define the function, enclosed in curly braces, {/* ... */).:"
   ]
  },
  {
   "cell_type": "markdown",
   "id": "126e6bd3-93b6-4a0e-a461-7d88240903f3",
   "metadata": {},
   "source": [
    "<font color = \"blue\"> Example: </font>"
   ]
  },
  {
   "cell_type": "code",
   "execution_count": 1,
   "id": "4e67037e-86bc-41f7-9fbc-47d724a8e08a",
   "metadata": {},
   "outputs": [],
   "source": [
    "function square(number){\n",
    "    return number * number;\n",
    "}"
   ]
  },
  {
   "cell_type": "markdown",
   "id": "b9a43480-4cee-4a16-aaca-3248dda2c909",
   "metadata": {},
   "source": [
    "In the example above the function called `square` takes a single parameter, which is the word enclosed in parenthesis. The function then utilizes the `return` keyword to pass the result of the parameter out of the function."
   ]
  },
  {
   "cell_type": "markdown",
   "id": "5a1179a1-649d-4570-8110-504346363339",
   "metadata": {},
   "source": [
    "**Parameter:** A parameter in programming is a named variable used only in a function or method <font color = \"red\"> definition</font>. It acts like a variable, a placeholder that receives and holds the values and <font color = \"red\"> passed </font> to the function when its <font color = \"red\"> called. </font>"
   ]
  },
  {
   "cell_type": "markdown",
   "id": "96ea57f0-382f-4ebb-8a44-d9a72d77ff38",
   "metadata": {},
   "source": [
    "**Return:** A return statement in a function is an optional statement that exists the function and returns a value to the program, outside of the block of the function. Any code following the return statement is _not_ executed. If a function doesn't have a return statement, or if no return value is specified, the function returns as _undefined_."
   ]
  },
  {
   "cell_type": "code",
   "execution_count": 4,
   "id": "804a7be2-1c8b-4fab-8f97-e92cccae02fa",
   "metadata": {},
   "outputs": [],
   "source": [
    "function sum(a, b) {\n",
    "    return a + b;\n",
    "}"
   ]
  },
  {
   "cell_type": "markdown",
   "id": "a0015cdd-2fd5-4515-a17f-32f86511f417",
   "metadata": {},
   "source": [
    "In the function above, we are utilizing two parameters and simply adding two numbers, A and B. We are then returning the value out of the function. However, please note that functions need to have more than a definition which is seen above. We now need to _call_ the function, in order to utilize it."
   ]
  },
  {
   "cell_type": "markdown",
   "id": "e94b1527-5cf8-4e63-9fc8-b5eea2110085",
   "metadata": {},
   "source": [
    "# Calling a Function"
   ]
  },
  {
   "cell_type": "markdown",
   "id": "0c647394-a54f-4fcc-90df-b8621f3b0ba4",
   "metadata": {},
   "source": [
    "***"
   ]
  },
  {
   "cell_type": "markdown",
   "id": "e64441d9-bcb0-4d73-b219-6700d562d0d8",
   "metadata": {},
   "source": [
    "**Function Call:** A function call is when you call or use the function you have created. Note that when you create a function it does not need to be used right away in a procedural order. You can create it and use it whenever you need, as many times as needed. Before calling the function you must define it in the steps above. The syntax for calling a function is below, and we are using the function definition tfrom the sum function we created above. Note that we are using something called <font color = \"red\"> arguments </font> in a function call."
   ]
  },
  {
   "cell_type": "markdown",
   "id": "db88680b-17fb-4806-a9f2-64e9ac1840a6",
   "metadata": {},
   "source": [
    "**Argument:** An argument is the value we input in the function via parameters. In other words the value of arguments are input and become the value of parameters in the function definition, much like how you assign a variable a value. **The position of arguments matter, the arguments fill in the parameters in the order in which they are written.** <br> <br> <font color = \"blue\"> Syntax: </font> <br> <br> function_name (arguments); <br> <br> <font color = \"blue\"> Example: </font>"
   ]
  },
  {
   "cell_type": "code",
   "execution_count": null,
   "id": "a788b389-9bc5-4b7a-b805-6999821659fa",
   "metadata": {},
   "outputs": [],
   "source": [
    "sum(3, 5);"
   ]
  },
  {
   "cell_type": "markdown",
   "id": "88239a8e-ece7-4caa-bcd5-1990d3f1cfcb",
   "metadata": {},
   "source": [
    "Here is how we can _call_ the square function we defined before in our notes."
   ]
  },
  {
   "cell_type": "code",
   "execution_count": 5,
   "id": "4df5ab00-0dab-4f69-8a78-3db4b3954cca",
   "metadata": {},
   "outputs": [
    {
     "data": {
      "text/plain": [
       "25"
      ]
     },
     "execution_count": 5,
     "metadata": {},
     "output_type": "execute_result"
    }
   ],
   "source": [
    "square(5);"
   ]
  },
  {
   "cell_type": "markdown",
   "id": "72d26dd5-5eaa-408b-8733-3729109efa13",
   "metadata": {},
   "source": [
    "<font color = \"blue\"> Syntax: </font>"
   ]
  },
  {
   "cell_type": "markdown",
   "id": "7b4cffb6-1e13-48ff-b3f7-52d7c60267aa",
   "metadata": {},
   "source": [
    "# Function Definitions and Calls"
   ]
  },
  {
   "cell_type": "markdown",
   "id": "500c8ff4-83ca-4f12-9098-482b791a0781",
   "metadata": {},
   "source": [
    "***"
   ]
  },
  {
   "cell_type": "markdown",
   "id": "d85e7a94-b6c0-4e44-aa64-e7082b262620",
   "metadata": {},
   "source": [
    "We always utilize function definitions, calls, parameters, return and arguments together. Parameters, return statements and arguments are always optional. Below are some examples which are simple functions with THEIR definitions and calls. **Note that Jupyter Lab will print these functions by default. You must create print statements / variables to actually see the results of your functions in regular JS.** JS."
   ]
  },
  {
   "cell_type": "markdown",
   "id": "d1224949-22ac-455b-9a0e-da559b00814b",
   "metadata": {},
   "source": [
    "<font color = \"blue\"> Examples: </font>"
   ]
  },
  {
   "cell_type": "code",
   "execution_count": 8,
   "id": "473faf04-cb46-406a-be39-72ffeeee0586",
   "metadata": {},
   "outputs": [
    {
     "name": "stdout",
     "output_type": "stream",
     "text": [
      "Hello there Alex\n"
     ]
    }
   ],
   "source": [
    "function greet(name) {\n",
    "    console.log(\"Hello there \" + name);\n",
    "}\n",
    "greet(\"Alex\");"
   ]
  },
  {
   "cell_type": "code",
   "execution_count": null,
   "id": "595b8ede-04b3-48af-bd9f-8edcd36e70e2",
   "metadata": {},
   "outputs": [],
   "source": []
  }
 ],
 "metadata": {
  "kernelspec": {
   "display_name": "JavaScript (Node.js)",
   "language": "javascript",
   "name": "javascript"
  },
  "language_info": {
   "file_extension": ".js",
   "mimetype": "application/javascript",
   "name": "javascript",
   "version": "20.8.1"
  }
 },
 "nbformat": 4,
 "nbformat_minor": 5
}
