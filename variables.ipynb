{
 "cells": [
  {
   "cell_type": "markdown",
   "id": "0d609c63-2f08-4d36-aa7c-88cb26576556",
   "metadata": {},
   "source": [
    "# Variables in Javascript"
   ]
  },
  {
   "cell_type": "markdown",
   "id": "3eb72c05-13fd-4dc1-94a9-16e5f2f6af0f",
   "metadata": {},
   "source": [
    "***"
   ]
  },
  {
   "cell_type": "markdown",
   "id": "23235605-e8fa-49d5-a527-3ece58513bc9",
   "metadata": {},
   "source": [
    "Documentation located [here](https://www.w3schools.com/js/js_variables.asp)"
   ]
  },
  {
   "cell_type": "markdown",
   "id": "c99407ed-a319-4833-bc01-2058d714e2c1",
   "metadata": {},
   "source": [
    "**Variables**: A container for storing values. A variable has a name and contains a value. You\n",
    "\"Store\" a variable in memory and it allows you to access, modify, and manipulate that value\n",
    "throughout your program. Variables allow us to write programs in a generic manner, allow\n",
    "us to modify data without needing to modify the code structure."
   ]
  },
  {
   "cell_type": "markdown",
   "id": "45f07156-6834-46b1-ad71-b972b33a7d81",
   "metadata": {},
   "source": [
    "You can store many different data types in variables: Strings, Ints, booleans, floats, doubles\n",
    "and more!"
   ]
  },
  {
   "cell_type": "markdown",
   "id": "bf789a73-a2f5-4095-a9e3-0f1a3b84faf1",
   "metadata": {},
   "source": [
    "# Variable Declaration & Initialization"
   ]
  },
  {
   "cell_type": "markdown",
   "id": "9429c24f-f0c3-4de3-ac95-517f8c78b308",
   "metadata": {},
   "source": [
    "***"
   ]
  },
  {
   "cell_type": "markdown",
   "id": "599dad51-a433-437e-8bc2-b5085abbb051",
   "metadata": {},
   "source": [
    "Variables can be declared & initialize at the same time or seperately, in order to utilize the\n",
    "variable, both must happen."
   ]
  },
  {
   "cell_type": "markdown",
   "id": "fc822a8a-c904-435a-9a16-9397512b65e5",
   "metadata": {},
   "source": [
    "**Variable Declaration**: This is the first step to creating a variable, it tells your program that\n",
    "we want to create a variable, in this step the variable has no value. Must declare with var, let\n",
    "or CONST keywords. Var is outdated, we do not use it, you will see it in legacy code as well\n",
    "as in code.org. <br> <font color=blue> *Example:* </font> <br> let age; <br> var name; <br> CONST birthday; "
   ]
  },
  {
   "cell_type": "markdown",
   "id": "e8ae15ce-4455-4a26-ac37-c95493d5d88c",
   "metadata": {},
   "source": [
    "**Variable Initialization**: This is where you give a variable a value for the first time. Variables\n",
    "must be declared before initializing. <br> <font color=blue> *Example:* </font> <br> age = 25; <br> name = \"Cooper\"; <br> birthday = 2000;"
   ]
  },
  {
   "cell_type": "markdown",
   "id": "fed81886-8a89-46c4-9b43-ca1b80a64f0b",
   "metadata": {},
   "source": [
    "**Variable Definition**: Variables can be declared and initialized at the same time. We call this\n",
    "<font color=red> \"Variable Definition\" </font>. <br> <font color=blue> *Example:* </font> <br> let age = 20; <br> var name = \"Cooper\"; <br> CONST birthday = 2002;"
   ]
  },
  {
   "cell_type": "markdown",
   "id": "cdcd9800-4f2a-4e4e-b036-c2c9b421a7ac",
   "metadata": {},
   "source": [
    "The equals sign is known as the <font color=red> assignment operator </font> in most programming languages. You must use this to create variables.s."
   ]
  },
  {
   "cell_type": "markdown",
   "id": "8831d9af-ea80-4938-b8da-63b5f6acea04",
   "metadata": {},
   "source": [
    "# Naming Variables"
   ]
  },
  {
   "cell_type": "markdown",
   "id": "5c6315f7-0350-4195-b65a-60b57066635d",
   "metadata": {},
   "source": [
    "***"
   ]
  },
  {
   "cell_type": "markdown",
   "id": "4111861f-4881-4988-8441-dd5a527ee88f",
   "metadata": {},
   "source": [
    "Variable names are extremely important, naming conventions vary between languages, here \n",
    "are some tips:"
   ]
  },
  {
   "cell_type": "markdown",
   "id": "6bdc4ac8-cbc2-4117-b19c-a70d71718ab0",
   "metadata": {},
   "source": [
    "1. Use descriptive names, that match the purpose of the variable.\n",
    "2. Use CamelCase when writing multi-word variables (Javascript best practice)\n",
    "3. Avoid symbols, and \"reserved\" words, such as: let, for, if, etc. <br>\n",
    "   <font color=red> Never put spaces in variables, a variable can never just be an integer. </font>"
   ]
  },
  {
   "cell_type": "markdown",
   "id": "6c8a770a-5fa0-42d7-96ce-6a04cc66af56",
   "metadata": {},
   "source": [
    "<font color=blue> *Good Examples:* </font> <br> let firstName = \"Thomas\"; <br> let numberOfLives = 9; <br> CONST temp = 98; <br> let messageOfTheDay = \"Hello there, welcome to CSP\"; <br> <font color=blue> *Bad Examples:* </font> <br> let 2 = 9; <br> let N!M@ = \"John\"; <br> let birthday month = \"December\";"
   ]
  },
  {
   "cell_type": "markdown",
   "id": "21f374bf-3d4a-4d6d-97d1-5de0b48eedcd",
   "metadata": {},
   "source": [
    "# Using the console.log(); method with Variables"
   ]
  },
  {
   "cell_type": "markdown",
   "id": "4a142ecf-9a5e-4ad7-a971-db83a514a537",
   "metadata": {},
   "source": [
    "***"
   ]
  },
  {
   "cell_type": "markdown",
   "id": "623893eb-7b2c-4a33-b138-bea311c08d8a",
   "metadata": {},
   "source": [
    "We can combine our previous knowlege of the console log method with variables to start to \n",
    "build actual programs."
   ]
  },
  {
   "cell_type": "markdown",
   "id": "fa690fd7-6727-4299-91c6-c602ec89e362",
   "metadata": {},
   "source": [
    "Let's start by defining a variable:"
   ]
  },
  {
   "cell_type": "code",
   "execution_count": 3,
   "id": "08f081fc-986f-4bc6-9c17-c9f578008161",
   "metadata": {},
   "outputs": [],
   "source": [
    "let parentsAge = 36;"
   ]
  },
  {
   "cell_type": "markdown",
   "id": "71c11704-49d9-4b9d-8eda-46f8938987a0",
   "metadata": {},
   "source": [
    "Now let's print the age variable to the console. <br> (NOTE: In Jupyter, we get the output below our \n",
    "cell. If you want to see how this looks in a coding environment you can try this in VSCode)."
   ]
  },
  {
   "cell_type": "code",
   "execution_count": 4,
   "id": "06fa9acf-c523-4b6e-9465-65ee91756bd1",
   "metadata": {},
   "outputs": [
    {
     "name": "stdout",
     "output_type": "stream",
     "text": [
      "36\n"
     ]
    }
   ],
   "source": [
    "console.log(parentsAge);"
   ]
  },
  {
   "cell_type": "markdown",
   "id": "ac7a9710-2e4a-4c47-901d-1ef7dc2f63fe",
   "metadata": {},
   "source": [
    "See above, when you run the cell (Shift + Enter) the output is not the variable name, but the \n",
    "information stored inside the variable. Below are more examples:"
   ]
  },
  {
   "cell_type": "code",
   "execution_count": 5,
   "id": "5a75f58d-39e7-420f-a3c0-b50b7c0531d5",
   "metadata": {},
   "outputs": [],
   "source": [
    "let birthdayCakeFlavor = \"chocolate\";"
   ]
  },
  {
   "cell_type": "code",
   "execution_count": 6,
   "id": "999ff865-82df-449d-a223-10d3c80215c8",
   "metadata": {},
   "outputs": [
    {
     "name": "stdout",
     "output_type": "stream",
     "text": [
      "chocolate\n"
     ]
    }
   ],
   "source": [
    "console.log(birthdayCakeFlavor)"
   ]
  },
  {
   "cell_type": "markdown",
   "id": "b8ebbf97-96c0-49bf-9db4-27946969029d",
   "metadata": {},
   "source": [
    "# Operators"
   ]
  },
  {
   "cell_type": "markdown",
   "id": "817e31d4-01a0-458e-8424-561880e5065a",
   "metadata": {},
   "source": [
    "***"
   ]
  },
  {
   "cell_type": "markdown",
   "id": "094a994c-5fec-48bd-8e9c-ff757c2cb2f5",
   "metadata": {},
   "source": [
    "Operators are crucial for writing programming langauge. Operators are special symbols or keywords that can perform operations. Below are the most common types:"
   ]
  },
  {
   "cell_type": "markdown",
   "id": "e07d59bd-31d9-4553-b669-b13119063728",
   "metadata": {},
   "source": [
    "**Arithmetic Operators:** Used to perform basic math. <br> <font color=blue> *Example* </font> <br> + (Add) <br> - (subtract) <br> * (Multiply) <br> / (Divide) <br> % (Modulo)"
   ]
  },
  {
   "cell_type": "markdown",
   "id": "ecd16d92-719c-4922-a79a-efcfe66d734a",
   "metadata": {},
   "source": [
    "**Comparison Operators:** Used to compare values. <br> <font color=blue> *Example* </font> <br> ===(equal) <br> != (Not Equal) <br> < (Less Than) <br> > (Greater Than) <br> <= (Less Than or Equal) <br> >= (Greater Than or Equal) "
   ]
  },
  {
   "cell_type": "markdown",
   "id": "a1310293-c9f7-4278-bfd8-05b8d9f261d9",
   "metadata": {},
   "source": [
    "**Logical Operators:** Used to make decisions. <br> <font color=blue> *Example* </font> <br> && (and) <br> || (or) <br> ! (Not) "
   ]
  },
  {
   "cell_type": "markdown",
   "id": "dc04e37b-0923-4f8a-baee-69cdd4bbd476",
   "metadata": {},
   "source": [
    "**Assignment Operators:** Used in variables to assign value. <br> <font color=blue> *Example* </font> <br> = (Assign) <br> += (Add and Assign) <br> -= (Subtract and Assign)"
   ]
  },
  {
   "cell_type": "markdown",
   "id": "e7951254-29ce-4c71-b741-4513b5412b77",
   "metadata": {},
   "source": [
    "**String Operators:** Used to concetenate (combine) two strings. <br> <font color=blue> *Example* </font> <br> + (Concatenate)"
   ]
  },
  {
   "cell_type": "markdown",
   "id": "9b78c171-6fc2-4a7c-b9bb-2de4d408a069",
   "metadata": {},
   "source": [
    "# Using Operators"
   ]
  },
  {
   "cell_type": "markdown",
   "id": "b596d87d-1c61-4eae-bbab-1c45de8273df",
   "metadata": {},
   "source": [
    "***"
   ]
  },
  {
   "cell_type": "markdown",
   "id": "61e87fac-a68d-4e45-bf1b-a00b46f6173f",
   "metadata": {},
   "source": [
    "Operators are simple to use within variables. They can be used outside of variables as well, but let's start by using them inside variables. We will use the same process as above, by defining a variable and then printing it to the console. However, we will now utilize operators to make more complex variables.es."
   ]
  },
  {
   "cell_type": "code",
   "execution_count": 8,
   "id": "d0106567-7f4d-4f1e-b7d3-5b1ecfa77c9a",
   "metadata": {},
   "outputs": [],
   "source": [
    "let areaOfRectangle = 4 * 5;"
   ]
  },
  {
   "cell_type": "code",
   "execution_count": 9,
   "id": "a0ff42f2-2ed2-4141-8b2b-5c4152ab6b47",
   "metadata": {},
   "outputs": [
    {
     "name": "stdout",
     "output_type": "stream",
     "text": [
      "20\n"
     ]
    }
   ],
   "source": [
    "console.log(areaOfRectangle)"
   ]
  },
  {
   "cell_type": "markdown",
   "id": "2d45c299-ec6f-4805-ae42-d0452a3fb197",
   "metadata": {},
   "source": [
    "We can use the concatenation (and the '+' operator) to make better print statements in the \n",
    "console. Note the space between the colon and the last quotation mark:"
   ]
  },
  {
   "cell_type": "code",
   "execution_count": 10,
   "id": "a4c90ca3-ef62-4da9-af2b-1193d15f0c4e",
   "metadata": {},
   "outputs": [],
   "source": [
    "let areaOfSquare = 7 * 7;"
   ]
  },
  {
   "cell_type": "code",
   "execution_count": 15,
   "id": "4897c34d-1c65-4f71-9448-66e7acb74656",
   "metadata": {},
   "outputs": [
    {
     "name": "stdout",
     "output_type": "stream",
     "text": [
      "The area of a 7 inch square is: 49\n"
     ]
    }
   ],
   "source": [
    "console.log('The area of a 7 inch square is: ' + areaOfSquare);"
   ]
  },
  {
   "cell_type": "markdown",
   "id": "dc64f261-b784-4d18-9b16-b7036b7ba1a3",
   "metadata": {},
   "source": [
    "You can concatenate words too, however let's examine what happens:"
   ]
  },
  {
   "cell_type": "code",
   "execution_count": 16,
   "id": "9b6579d6-1e2a-46a4-8713-83c41c7b2a9f",
   "metadata": {},
   "outputs": [],
   "source": [
    "let firstName = \"John\";\n",
    "let lastName = \"Doe\";"
   ]
  },
  {
   "cell_type": "code",
   "execution_count": 17,
   "id": "831ef2f9-9413-4088-97fc-98078418e9b0",
   "metadata": {},
   "outputs": [
    {
     "name": "stdout",
     "output_type": "stream",
     "text": [
      "His name is JohnDoe\n"
     ]
    }
   ],
   "source": [
    "console.log(\"His name is \" + firstName + lastName)"
   ]
  },
  {
   "cell_type": "markdown",
   "id": "c321574d-7cd6-4e02-8340-528787bd4fd8",
   "metadata": {},
   "source": [
    "We are missing a space between first name and last name. We can fix this by adding a blank space, using an empty set of quotes, and make sure you put a space between the quotes:"
   ]
  },
  {
   "cell_type": "code",
   "execution_count": 18,
   "id": "c1ac7d21-f9da-4a80-832b-bd4b98375694",
   "metadata": {},
   "outputs": [
    {
     "name": "stdout",
     "output_type": "stream",
     "text": [
      "His name is John Doe\n"
     ]
    }
   ],
   "source": [
    "console.log(\"His name is \" + firstName + \" \" + lastName);"
   ]
  },
  {
   "cell_type": "markdown",
   "id": "7188c9c5-608d-4c70-805e-1bd44a07eed4",
   "metadata": {},
   "source": [
    "We can also use operators on variables. For instance, we will use the equality operator to see if the 2 variables below are equal. It will return true or false:"
   ]
  },
  {
   "cell_type": "code",
   "execution_count": 19,
   "id": "6906f120-46ed-40c8-a68d-03ce6c96e5db",
   "metadata": {},
   "outputs": [],
   "source": [
    "let trainTicketValue = 5;\n",
    "let trainNumber = 4;"
   ]
  },
  {
   "cell_type": "code",
   "execution_count": 20,
   "id": "0bc1fd90-6aa1-4d58-9ede-7d24acafed71",
   "metadata": {},
   "outputs": [
    {
     "name": "stdout",
     "output_type": "stream",
     "text": [
      "false\n"
     ]
    }
   ],
   "source": [
    "console.log(trainTicketValue == trainNumber);"
   ]
  },
  {
   "cell_type": "markdown",
   "id": "02d37a07-515b-474b-93d8-8aa6a70060a8",
   "metadata": {},
   "source": [
    "# Changing Variable Assignments "
   ]
  },
  {
   "cell_type": "markdown",
   "id": "0a1a37dd-6a93-43ed-bae6-8c0ddd95077a",
   "metadata": {},
   "source": [
    "***"
   ]
  },
  {
   "cell_type": "markdown",
   "id": "c7ca86a4-1066-4bba-ba1a-c5429436eadd",
   "metadata": {},
   "source": [
    "Variables defined with let and var can be changed. CONST variables cannot be changed. In \n",
    "the example below we set the variable to a value, then change it. Notice the output takes th \r\n",
    "last value. IT does not mean that the variable was not the initial value, you just are printi g\r\n",
    "the last value because the program is executing in a procedural step by step manner. Not ce\r\n",
    "that when we mutate the variable we dont use the declaration keywora aga<br> in. NOTE  In\r\n",
    "Jupyter, mutating (changing) a variable name will print it out. This is NOT the case in  ther\r\n",
    "IDE's, you will only see output when logging to the console."
   ]
  },
  {
   "cell_type": "code",
   "execution_count": 21,
   "id": "759e0264-b925-45aa-9b6c-32c4641b5d96",
   "metadata": {},
   "outputs": [
    {
     "data": {
      "text/plain": [
       "10"
      ]
     },
     "execution_count": 21,
     "metadata": {},
     "output_type": "execute_result"
    }
   ],
   "source": [
    "let numOfCows = 10;\n",
    "numOfCows = 5;\n",
    "numOfCows = 10;"
   ]
  },
  {
   "cell_type": "code",
   "execution_count": 22,
   "id": "06ec805c-9d16-4853-a4da-a7d64123f30c",
   "metadata": {},
   "outputs": [
    {
     "name": "stdout",
     "output_type": "stream",
     "text": [
      "10\n"
     ]
    }
   ],
   "source": [
    "console.log(numOfCows);"
   ]
  },
  {
   "cell_type": "code",
   "execution_count": 32,
   "id": "9d463c6e-02ad-47ca-8b8a-c38cf82d03c4",
   "metadata": {},
   "outputs": [
    {
     "data": {
      "text/plain": [
       "'Im a crow'"
      ]
     },
     "execution_count": 32,
     "metadata": {},
     "output_type": "execute_result"
    }
   ],
   "source": [
    "let murderOfCrowsThree = 5 + 5;\n",
    "murderOfCrows = 1000000 * 7;\n",
    "murderOfCrows = \"Im a crow\";"
   ]
  },
  {
   "cell_type": "code",
   "execution_count": 33,
   "id": "129505d9-b560-4731-8c08-214b995dba61",
   "metadata": {},
   "outputs": [
    {
     "name": "stdout",
     "output_type": "stream",
     "text": [
      "Im a crow\n"
     ]
    }
   ],
   "source": [
    "console.log(murderOfCrows);"
   ]
  },
  {
   "cell_type": "code",
   "execution_count": null,
   "id": "00738875-eb03-4c2d-a996-73a28ace19ac",
   "metadata": {},
   "outputs": [],
   "source": []
  }
 ],
 "metadata": {
  "kernelspec": {
   "display_name": "JavaScript (Node.js)",
   "language": "javascript",
   "name": "javascript"
  },
  "language_info": {
   "file_extension": ".js",
   "mimetype": "application/javascript",
   "name": "javascript",
   "version": "20.8.1"
  }
 },
 "nbformat": 4,
 "nbformat_minor": 5
}
