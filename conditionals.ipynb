{
 "cells": [
  {
   "cell_type": "markdown",
   "id": "1bd3ac0c-5554-42bc-b3df-698e61e11a71",
   "metadata": {},
   "source": [
    "# Conditional Statements In Javascript"
   ]
  },
  {
   "cell_type": "markdown",
   "id": "c5bb6476-b164-4a50-89cf-4366c8a4f00c",
   "metadata": {},
   "source": [
    "***"
   ]
  },
  {
   "cell_type": "markdown",
   "id": "18847d04-4aed-4a54-b21b-d2bea1feb49a",
   "metadata": {},
   "source": [
    "Documentation located [here](https://developer.mozilla.org/en-US/docs/Learn/JavaScript/Building_blocks/conditionals)."
   ]
  },
  {
   "cell_type": "markdown",
   "id": "f81b3c9f-009a-4f6c-8f97-395c0bd0fccf",
   "metadata": {},
   "source": [
    "**Conditional Statements:** Conditional statements, also known as control flow statements, \n",
    "allow a program to make decisions and execute different blocks of code based o  whether  \r\n",
    "certain condition is true or false. The e conditions are evaluated to boolean values, which a e\r\n",
    "either true or fal  . These conditions are usually expressions that compare values us ng\r\n",
    "comparison operators (e.g.,= ==, !=, <, >, <=, >=). The result of such expressions  s a\r\n",
    "boolean value, indicating the truth or falsity of the condition. This, in turn, deter ines  hich\r\n",
    "block of code will be executeds."
   ]
  },
  {
   "cell_type": "markdown",
   "id": "0e69c6d6-2ebe-4600-852c-431b5839299c",
   "metadata": {},
   "source": [
    "# Truthy Vs. Falsy Values"
   ]
  },
  {
   "cell_type": "markdown",
   "id": "bd3ed886-6cc9-48de-8d39-78d28eeacc58",
   "metadata": {},
   "source": [
    "***"
   ]
  },
  {
   "cell_type": "markdown",
   "id": "5eedacf9-de7d-4ba8-ab6d-46ab399cf156",
   "metadata": {},
   "source": [
    "In JavaScript, values are not only categorized as true or false but also as \"truthy\" or \"falsy\". \n",
    "This distinction is important when evaluating conditions in conditional statements."
   ]
  },
  {
   "cell_type": "markdown",
   "id": "e68ac5e1-7fbf-4ff9-9fca-8011ce7d2b23",
   "metadata": {},
   "source": [
    "**Falsy Values:** <br> <br> **false:** The keyword false. <br> **0:** The number zero. <br> **\"\"** (Empty String): A string with no characters. <br> **null:** Represents no value or no object. <br> **undefined:** Indicates that a variable has not been assigned a value. <br> **NaN:** Stands for \"Not-a-Number\". <br> <br> <font color = \"blue\">Example:</font> "
   ]
  },
  {
   "cell_type": "code",
   "execution_count": 1,
   "id": "0ed321bd-8f9a-4f78-b87b-d9aee9681d2d",
   "metadata": {},
   "outputs": [
    {
     "name": "stdout",
     "output_type": "stream",
     "text": [
      "0 is falsy\n"
     ]
    }
   ],
   "source": [
    "if (0) {\n",
    "console.log(\"This won't print, 0 is falsy\");\n",
    "} else {\n",
    "console.log(\"0 is falsy\");\n",
    "}\n",
    "if (null) {\n",
    "console.log(\"This won't print, null is falsy\");\n",
    "}"
   ]
  },
  {
   "cell_type": "markdown",
   "id": "1de00e6d-a96a-4ba7-8b1f-913623916f40",
   "metadata": {},
   "source": [
    "**Truthy Values:** <br> Any value that is not falsy is considered truthy. This includes true, all numbers (other than 0),\r\n",
    "all strings (including those with whitespace), and all objects and arrays (even empty ones)."
   ]
  },
  {
   "cell_type": "code",
   "execution_count": 2,
   "id": "c3f7f595-5f40-49f7-bc3d-8d0d7397ae3b",
   "metadata": {},
   "outputs": [
    {
     "name": "stdout",
     "output_type": "stream",
     "text": [
      "42 is truthy\n",
      "Non-empty string is truthy\n",
      "Whitespace-only string is also truthy\n",
      "An empty array is truthy\n",
      "An empty object is truthy\n"
     ]
    }
   ],
   "source": [
    "if (42) {\n",
    "console.log(\"42 is truthy\");\n",
    "}\n",
    "if (\"Hello\") {\n",
    "console.log(\"Non-empty string is truthy\");\n",
    "}\n",
    "if (\" \") {\n",
    "console.log(\"Whitespace-only string is also truthy\");\n",
    "}\n",
    "if ([]) {\n",
    "console.log(\"An empty array is truthy\");\n",
    "}\n",
    "if ({}) {\n",
    "console.log(\"An empty object is truthy\");\n",
    "}"
   ]
  },
  {
   "cell_type": "markdown",
   "id": "a0ca2061-c3ad-443d-a365-ec4ba8179dec",
   "metadata": {},
   "source": [
    "# If..Else Statements"
   ]
  },
  {
   "cell_type": "markdown",
   "id": "171d2b8a-8b0c-4904-8fb5-4829445de8b0",
   "metadata": {},
   "source": [
    "***"
   ]
  },
  {
   "cell_type": "markdown",
   "id": "1ab5847c-c903-4ed6-9c38-33369a0bf1c2",
   "metadata": {},
   "source": [
    "An if..else statement will execute a statement if the specified condition is truthy. This is the \n",
    "most basic conditional statment, it gives your program a bit mor  flexibility and decision \r\n",
    "making.The steps to making a if statement are below::"
   ]
  },
  {
   "cell_type": "markdown",
   "id": "6e7d0760-d4a6-4b82-87e1-e01a1f80c791",
   "metadata": {},
   "source": [
    "1. keyword `if` followed by parenthesis.\r\n",
    "2. A conditiona to test in paranthesis, usually using comparison operators.\r\n",
    "3. A set of curly braces, inside is the code that runs if true.\r\n",
    "4. T`he e`lse keyword.\r\n",
    "5. Another set of curly braces, inside is the code that runs if false.alse."
   ]
  },
  {
   "cell_type": "markdown",
   "id": "849f39a0-154b-4244-95c9-b908941723ec",
   "metadata": {},
   "source": [
    "**Note:** The else is optional. You can create just a basic if statement without an else if needed."
   ]
  },
  {
   "cell_type": "markdown",
   "id": "f1eb8b68-a752-466a-8758-9cc97be37cbc",
   "metadata": {},
   "source": [
    "<font color = \"blue\">Syntax:</font> "
   ]
  },
  {
   "cell_type": "code",
   "execution_count": 3,
   "id": "1b9bd928-0828-4ab5-8f32-b4ba20416842",
   "metadata": {},
   "outputs": [],
   "source": [
    "if ('condition') {\n",
    "//Code here runs if the condition is true.\n",
    "}\n",
    "//Code out here is OUTSIDE the if statement block of code."
   ]
  },
  {
   "cell_type": "markdown",
   "id": "5e944ba4-0955-4d43-96fe-aed1ba5bf145",
   "metadata": {},
   "source": [
    "<font color = \"blue\">Example:</font> "
   ]
  },
  {
   "cell_type": "code",
   "execution_count": 4,
   "id": "9073e063-0297-4a9f-9887-8909fb4cfbca",
   "metadata": {},
   "outputs": [
    {
     "name": "stdout",
     "output_type": "stream",
     "text": [
      "We are the same age\n"
     ]
    }
   ],
   "source": [
    "let myAge = 2;\n",
    "let yourAge = 2;\n",
    "if (myAge == yourAge){\n",
    "console.log(\"We are the same age\");\n",
    "}"
   ]
  },
  {
   "cell_type": "markdown",
   "id": "061f4109-3ff6-4cbc-b7f7-6d0665bc00c7",
   "metadata": {},
   "source": [
    "<font color = \"blue\">Syntax:</font> "
   ]
  },
  {
   "cell_type": "code",
   "execution_count": 5,
   "id": "c71f94e3-2470-4646-80a3-97a369031125",
   "metadata": {},
   "outputs": [],
   "source": [
    "if ('condition') {\n",
    "//Code here runs if the condition is true.\n",
    "} else {\n",
    "//If the condition is false, run different code here\n",
    "}"
   ]
  },
  {
   "cell_type": "markdown",
   "id": "336df91a-0821-43da-90c8-667d8397f52d",
   "metadata": {},
   "source": [
    "<font color = \"blue\">Example:</font> "
   ]
  },
  {
   "cell_type": "code",
   "execution_count": 6,
   "id": "0100fa56-2f2f-4710-b74b-18ff4571be89",
   "metadata": {},
   "outputs": [
    {
     "name": "stdout",
     "output_type": "stream",
     "text": [
      "You have more peaches than apples.\n"
     ]
    }
   ],
   "source": [
    "let numOfApples = 10;\n",
    "let numOfPeaches = 12;\n",
    "if (numOfApples > numOfPeaches) {\n",
    "console.log (\"You have more apples than peaches.\");\n",
    "} else {\n",
    "console.log (\"You have more peaches than apples.\");\n",
    "}"
   ]
  },
  {
   "cell_type": "code",
   "execution_count": 7,
   "id": "69c8bf89-e2f5-4e3c-bfed-324db8b76dff",
   "metadata": {},
   "outputs": [
    {
     "data": {
      "text/plain": [
       "5"
      ]
     },
     "execution_count": 7,
     "metadata": {},
     "output_type": "execute_result"
    }
   ],
   "source": [
    "let shoppingDone = false;\n",
    "let childsAllowance;\n",
    "if (shoppingDone === true) {\n",
    "childsAllowance = 10;\n",
    "} else {\n",
    "childsAllowance = 5;\n",
    "}"
   ]
  },
  {
   "cell_type": "markdown",
   "id": "9ccc403b-e204-45dc-9791-8198b8785e26",
   "metadata": {},
   "source": [
    "# Else if"
   ]
  },
  {
   "cell_type": "markdown",
   "id": "8b543404-9e2e-4809-b1db-e141eae23aef",
   "metadata": {},
   "source": [
    "***"
   ]
  },
  {
   "cell_type": "markdown",
   "id": "12998b1d-0be8-44fc-8497-3e16a62fa608",
   "metadata": {},
   "source": [
    "The last example provided us with two choices, or outcomes — but what if we want more than two? <br> There is a way to chain on extra choices/outcomes to your `if...else` — using `else if`. Each extra choice requires an additional block to put in between `if () { }` and `else {\n",
    "}`."
   ]
  },
  {
   "cell_type": "markdown",
   "id": "ac2ee92a-c57b-4de7-a82d-90f11152c6a4",
   "metadata": {},
   "source": [
    "You can have as many different options in a conditional statement using `else if`."
   ]
  },
  {
   "cell_type": "markdown",
   "id": "e8cb1899-5f16-4686-8a86-5de327ddcbb2",
   "metadata": {},
   "source": [
    "<font color = \"blue\">Syntax:</font> "
   ]
  },
  {
   "cell_type": "code",
   "execution_count": 8,
   "id": "e6290be1-8346-4746-a0f1-03f71033fe89",
   "metadata": {},
   "outputs": [],
   "source": [
    "if ('checks condition 1') {\n",
    "//Code here runs if the condition is true.\n",
    "} else if ('checks condition 2') {\n",
    "//Code here runs if the condition1 is false and condition 2 is true.\n",
    "} else if ('checks condition 3'){\n",
    "//Code here runs if the conditional is false and conditional 3 is true.\n",
    "} else{\n",
    "//Code here runs if all conditionals above are false.\n",
    "}"
   ]
  },
  {
   "cell_type": "markdown",
   "id": "0f2ea5b7-8a23-43c3-81d5-0220d9575f08",
   "metadata": {},
   "source": [
    "<font color = \"blue\">Example:</font> "
   ]
  },
  {
   "cell_type": "code",
   "execution_count": 10,
   "id": "8b229863-4b5e-4bf0-bac0-2b1fe21b1210",
   "metadata": {},
   "outputs": [
    {
     "name": "stdout",
     "output_type": "stream",
     "text": [
      "Tom is not the same age as anyone\n"
     ]
    }
   ],
   "source": [
    "let tomsAge = 10;\n",
    "let sarahsAge = 12;\n",
    "let arisAge = 15;\n",
    "if (tomsAge == sarahsAge){\n",
    "console.log(\"Tom and Sarah are the same age\");\n",
    "} else if (tomsAge == arisAge){\n",
    "console.log(\"Tom and Ari are the same age\");\n",
    "} else{\n",
    "console.log(\"Tom is not the same age as anyone\");\n",
    "}"
   ]
  },
  {
   "cell_type": "markdown",
   "id": "ac52991b-6d37-40ef-a4a2-b37f4ff11a10",
   "metadata": {},
   "source": [
    "# Combining Logical Operators with Conditionals"
   ]
  },
  {
   "cell_type": "markdown",
   "id": "1e59df90-1802-4f09-aaca-65e83d32b93b",
   "metadata": {},
   "source": [
    "***"
   ]
  },
  {
   "cell_type": "markdown",
   "id": "6402cc16-0f72-4135-952f-f3c24e848cb3",
   "metadata": {},
   "source": [
    "**Logical Operators:** Used to make decisions. <br> <font color = \"blue\">Example</font> <br> && (and) <br> || (or) <br> ! (Not)"
   ]
  },
  {
   "cell_type": "markdown",
   "id": "f62d823d-f229-4500-a358-b8e7ce7e1530",
   "metadata": {},
   "source": [
    "We can combine logical operators with our conditional statements to make smarter\n",
    "programs."
   ]
  },
  {
   "cell_type": "markdown",
   "id": "3f2055a9-4aa7-4b45-9e10-3fd30cecc130",
   "metadata": {},
   "source": [
    "<font color = \"blue\">Example:</font>"
   ]
  },
  {
   "cell_type": "code",
   "execution_count": 11,
   "id": "292b7afe-b589-458a-ab3f-e27c3cdba30b",
   "metadata": {},
   "outputs": [
    {
     "name": "stdout",
     "output_type": "stream",
     "text": [
      "At least one of them is older than 10\n"
     ]
    }
   ],
   "source": [
    "let tomAge = 10;\n",
    "let sarahAge = 12;\n",
    "let ariAge = 15;\n",
    "if (tomsAge > 10 && sarahsAge > 10 && arisAge > 10) {\n",
    "console.log(\"All of them are older than 10\");\n",
    "} else if (tomsAge > 10 || sarahsAge > 10 || arisAge > 10) {\n",
    "console.log(\"At least one of them is older than 10\");\n",
    "} else {\n",
    "console.log(\"None of them are older than 10\");\n",
    "}"
   ]
  },
  {
   "cell_type": "code",
   "execution_count": null,
   "id": "13d86a26-40b5-4c5b-bfc7-1b9a026df7a5",
   "metadata": {},
   "outputs": [],
   "source": []
  }
 ],
 "metadata": {
  "kernelspec": {
   "display_name": "JavaScript (Node.js)",
   "language": "javascript",
   "name": "javascript"
  },
  "language_info": {
   "file_extension": ".js",
   "mimetype": "application/javascript",
   "name": "javascript",
   "version": "20.8.1"
  }
 },
 "nbformat": 4,
 "nbformat_minor": 5
}
