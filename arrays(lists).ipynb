{
 "cells": [
  {
   "cell_type": "markdown",
   "id": "ac6b5ee6-ebba-4918-8bda-c1bfa55c8281",
   "metadata": {},
   "source": [
    "# JavaScript Lists(Arrays)"
   ]
  },
  {
   "cell_type": "markdown",
   "id": "ec5ad34d-9469-40e5-8398-fdcffb1ffea6",
   "metadata": {},
   "source": [
    "***"
   ]
  },
  {
   "cell_type": "markdown",
   "id": "405dd3e3-41ed-4b5a-83c9-475bd84ab491",
   "metadata": {},
   "source": [
    "Documentation located [here](https://developer.mozilla.org/en-US/docs/Web/JavaScript/Reference/Global_Objects/Array)."
   ]
  },
  {
   "cell_type": "markdown",
   "id": "a064d34e-3364-4977-8921-1ab4e51b148b",
   "metadata": {},
   "source": [
    "**JavaScript Lists:** Commonly referred to as Arrays, they are a way to store multiple vvalues in a single variable. Arrays are incredibly useful for mannaginng and manipulating sets of data."
   ]
  },
  {
   "cell_type": "markdown",
   "id": "f6a9af85-9d9c-4594-a947-142cd888fa3c",
   "metadata": {},
   "source": [
    "# Creating and Initializing Arrays"
   ]
  },
  {
   "cell_type": "markdown",
   "id": "4ea5cbe3-066e-4c5e-a3bb-d285256a6902",
   "metadata": {},
   "source": [
    "***"
   ]
  },
  {
   "cell_type": "markdown",
   "id": "c08abec5-d543-4f85-b22d-dad614f88e53",
   "metadata": {},
   "source": [
    "An array can hold a collection of items, which can be various data types such as strings, numbers, booleanns, and even other arrays or objects."
   ]
  },
  {
   "cell_type": "markdown",
   "id": "7b2fcf8f-e837-4856-82fe-69abe4822ae6",
   "metadata": {},
   "source": [
    "**Syntax**"
   ]
  },
  {
   "cell_type": "markdown",
   "id": "ebadc07f-e47d-4967-8c23-3a6f2bdb6982",
   "metadata": {},
   "source": [
    "To create an array, you can use square brackets[]. You can initialize an array with items or start with an empty array."
   ]
  },
  {
   "cell_type": "code",
   "execution_count": 2,
   "id": "06fc9903-5682-4fb6-bd67-09f6453c05c2",
   "metadata": {},
   "outputs": [],
   "source": [
    "// Initializing an empty array\n",
    "let fruits = [];\n",
    "\n",
    "//Initializing an array with items\n",
    "let colors = [\"red\", \"green\", \"blue\"];"
   ]
  },
  {
   "cell_type": "markdown",
   "id": "bad2b993-67ec-4345-975c-b58865d563cf",
   "metadata": {},
   "source": [
    "# Accessing Array Elements"
   ]
  },
  {
   "cell_type": "markdown",
   "id": "ee9300ae-3756-4188-b217-0512445453f4",
   "metadata": {},
   "source": [
    "***"
   ]
  },
  {
   "cell_type": "markdown",
   "id": "b1f63370-adba-4e5c-8f68-51446da209a0",
   "metadata": {},
   "source": [
    "Each item in an array has an index, starting from 0. You can access an element by using its index inside square brackets."
   ]
  },
  {
   "cell_type": "markdown",
   "id": "bb7e1b1c-43cb-42c5-8cf1-8937879a5aa0",
   "metadata": {},
   "source": [
    "# <font color=red> IMPORTANT NOTE: THE AP CSP EXAM STARTS INDEXES AT 1 NOT 0, CONTRARY TO MANY PROGRAMMING LANGUAGES. </font>"
   ]
  },
  {
   "cell_type": "code",
   "execution_count": 3,
   "id": "76dbacdc-7bf0-48f9-84f8-e80f731186ea",
   "metadata": {},
   "outputs": [
    {
     "name": "stdout",
     "output_type": "stream",
     "text": [
      "red\n"
     ]
    }
   ],
   "source": [
    "let firstColor = colors[0]; // Accessing the first item, \"red\"\n",
    "console.log(firstColor); // Output: \"red\""
   ]
  },
  {
   "cell_type": "markdown",
   "id": "2ff3e5a1-d27b-4656-883b-b0e095f78f1c",
   "metadata": {},
   "source": [
    "# Modifying Arrays"
   ]
  },
  {
   "cell_type": "markdown",
   "id": "bd3b8520-1cf2-498b-ad4a-13baee398514",
   "metadata": {},
   "source": [
    "***"
   ]
  },
  {
   "cell_type": "markdown",
   "id": "24938eed-0df3-40ca-9660-1ed1e61029d7",
   "metadata": {},
   "source": [
    "Arrays are mutable, meaning you can modify them after creation."
   ]
  },
  {
   "cell_type": "code",
   "execution_count": 4,
   "id": "102b029f-8067-4c88-bf98-b3339d6fd9cd",
   "metadata": {},
   "outputs": [
    {
     "data": {
      "text/plain": [
       "4"
      ]
     },
     "execution_count": 4,
     "metadata": {},
     "output_type": "execute_result"
    }
   ],
   "source": [
    "// Changing an element\n",
    "colors[1] = \"yellow\"; // Changing \"green\" to \"yellow\"\n",
    "\n",
    "// Adding a new element\n",
    "colors.push(\"purple\"); // Adding \"purple\" to the end"
   ]
  },
  {
   "cell_type": "markdown",
   "id": "ec3d6257-470d-45f5-8704-a031ee617f9c",
   "metadata": {},
   "source": [
    "# Array Properties and Methods"
   ]
  },
  {
   "cell_type": "markdown",
   "id": "aed28919-2ad7-4b84-be8d-079483ba3895",
   "metadata": {},
   "source": [
    "***"
   ]
  },
  {
   "cell_type": "markdown",
   "id": "d61be1e4-9b3f-4a84-88c0-dc54f9dcede6",
   "metadata": {},
   "source": [
    "Arrays come with various properties and methods for manipulation and inspection. We will mostly need the length property and a variety of methods listed below."
   ]
  },
  {
   "cell_type": "markdown",
   "id": "b0af36e9-ed38-425b-a7dc-a0d398837095",
   "metadata": {},
   "source": [
    "**Length Property**"
   ]
  },
  {
   "cell_type": "markdown",
   "id": "c9eb8877-90bd-47be-b31a-6a202e79aecc",
   "metadata": {},
   "source": [
    "The length property outputs the number of items in the array."
   ]
  },
  {
   "cell_type": "code",
   "execution_count": 5,
   "id": "227117bf-3e49-4791-a274-e6d078fbfd80",
   "metadata": {},
   "outputs": [
    {
     "name": "stdout",
     "output_type": "stream",
     "text": [
      "4\n"
     ]
    }
   ],
   "source": [
    "console.log(colors.length); // Output: the number of elements in colors array"
   ]
  },
  {
   "cell_type": "markdown",
   "id": "279605ae-3fc7-49a7-b7a2-5a0500de73da",
   "metadata": {},
   "source": [
    "**Common Array Methods**"
   ]
  },
  {
   "cell_type": "code",
   "execution_count": 11,
   "id": "165bb02d-613b-4cc2-86c3-8e6c7d18de23",
   "metadata": {},
   "outputs": [
    {
     "ename": "SyntaxError",
     "evalue": "Unexpected token ')'",
     "execution_count": 11,
     "output_type": "error",
     "traceback": [
      "evalmachine.<anonymous>:20",
      "array.splice(startIndex, deleteCount, newElement1, newElement2, ...);",
      "                                                                   ^",
      "",
      "SyntaxError: Unexpected token ')'",
      "    at new Script (node:vm:93:7)",
      "    at createScript (node:vm:248:10)",
      "    at Object.runInThisContext (node:vm:296:10)",
      "    at run ([eval]:1020:15)",
      "    at onRunRequest ([eval]:864:18)",
      "    at onMessage ([eval]:828:13)",
      "    at process.emit (node:events:514:28)",
      "    at emit (node:internal/child_process:951:14)",
      "    at process.processTicksAndRejections (node:internal/process/task_queues:83:21)"
     ]
    }
   ],
   "source": [
    "// Adding an element to the end of the array\n",
    "array.push(element);\n",
    "\n",
    "// Removing the last element of the array\n",
    "array.pop();\n",
    "\n",
    "// Adding an element to the beginninng of the array\n",
    "array.unshift(element);\n",
    "\n",
    "// Removing the first element of the array\n",
    "array.shift();\n",
    "\n",
    "// Finding the index of an element in the array\n",
    "let index = array.indexOf(element);\n",
    "\n",
    "// Removing elements from an array (starting index, number of elements to remove)\n",
    "array.splice(startIndex, deleteCount);\n",
    "\n",
    "// Adding elements to an array (starting indnex, nnumber of elements to delete, element 1, element 2)\n",
    "array.splice(startIndex, deleteCount, newElement1, newElement2, ...);\n",
    "\n",
    "// Creating a shallow copy of a part of an array (start index, end index)\n",
    "let newArray = array.slice(startIndex, endIndex);\n",
    "\n",
    "// Joining all elements of an array into a string (separator)\n",
    "let str = array.join(separator);\n",
    "\n",
    "// Reversing the elements in the array\n",
    "array.reverse();\n",
    "\n",
    "// Sorting the elements in the array\n",
    "array.sort();\n",
    "\n",
    "// Iterating over each element in the array\n",
    "array.forEach(function(element, index) {\n",
    "    // Code to execute for each element\n",
    "});\n",
    "\n",
    "// Transforming elements in the array and creating a new array\n",
    "let newArray = array.map(function(element, index) {\n",
    "    // Return true to keep the element, false to filter it out\n",
    "});\n",
    "\n",
    "// Filtering elements in the array based on a condition\n",
    "let filteredArray = array.filter(function(element, index) {\n",
    "    // Return true to keep the element, false to filter it out\n",
    "});\n",
    "\n",
    "// Checking if any element in the array passes a test\n",
    "let result = array.some(function(element, index) {\n",
    "    // Return true or false based on condition\n",
    "});\n",
    "\n",
    "// Checking if all elements inn the array pass a test\n",
    "let allPass = array.every(function(element, index) {\n",
    "    // Return true or false based on condition\n",
    "});\n",
    "\n",
    "// Reducing the array to a single value\n",
    "let result = array.reduce(function(accumulator, element, index) {\n",
    "    //Return updated accumulator\n",
    "}, initialValue);\n",
    "\n",
    "// Finding the first element in the array that satisfies a condition\n",
    "let foundElement = array.find(function(element, index) {\n",
    "    // Return true if this is the element you are looking for\n",
    "});\n",
    "\n",
    "// Finding the index of the first element in the array that satisfies a condition\n",
    "let foundIndex = array.findIndex(function(element, index) {\n",
    "    // Return true if this is the element you are looking for\n",
    "});\n",
    "\n",
    "// Concatenating multiple arrays\n",
    "let newArray = array1.concat(array2, array3, ...);"
   ]
  },
  {
   "cell_type": "markdown",
   "id": "e548bb20-02a5-4e6b-9bb0-de706e6e2fd2",
   "metadata": {},
   "source": [
    "# Looping Through Arrays"
   ]
  },
  {
   "cell_type": "markdown",
   "id": "7e6e5a82-4f71-43e7-867a-f6646aa3f557",
   "metadata": {},
   "source": [
    "***"
   ]
  },
  {
   "cell_type": "markdown",
   "id": "4374dcf0-cff3-4e94-b3e8-d4c7f0e5a067",
   "metadata": {},
   "source": [
    "To iterate over an array, you can use loops like `for`, `forEach`, or `for...of`."
   ]
  },
  {
   "cell_type": "code",
   "execution_count": 12,
   "id": "c9305cc4-bc05-4b8f-a9c5-3aaf96b0c639",
   "metadata": {},
   "outputs": [
    {
     "name": "stdout",
     "output_type": "stream",
     "text": [
      "red\n",
      "yellow\n",
      "blue\n",
      "purple\n",
      "red\n",
      "yellow\n",
      "blue\n",
      "purple\n"
     ]
    }
   ],
   "source": [
    "// Using forEach\n",
    "colors.forEach(function(color) {\n",
    "    console.log(color);\n",
    "});\n",
    "\n",
    "// Using for...of\n",
    "for (let color of colors) {\n",
    "    console.log(color);\n",
    "}"
   ]
  },
  {
   "cell_type": "markdown",
   "id": "1a661c08-db7b-4b69-9d7f-1db2bf48d34e",
   "metadata": {},
   "source": [
    "# Multidimensional Arrays"
   ]
  },
  {
   "cell_type": "markdown",
   "id": "7f9cfa44-5b29-47fb-bb87-bceec3e7a4ab",
   "metadata": {},
   "source": [
    "***"
   ]
  },
  {
   "cell_type": "markdown",
   "id": "2b0867d0-c975-4f8d-94e3-81892a9ec64c",
   "metadata": {},
   "source": [
    "Arrays can contain other arrays, creating a multidimensional array."
   ]
  },
  {
   "cell_type": "code",
   "execution_count": 13,
   "id": "5a7795f1-7ba7-415d-aa83-4296d7d72dc0",
   "metadata": {},
   "outputs": [
    {
     "name": "stdout",
     "output_type": "stream",
     "text": [
      "6\n"
     ]
    }
   ],
   "source": [
    "let matrix = [\n",
    "    [1, 2, 3],\n",
    "    [4, 5, 6],\n",
    "    [7, 8, 9]\n",
    "];\n",
    "\n",
    "console.log(matrix[1][2]); // Accessing the third element of the second array"
   ]
  },
  {
   "cell_type": "markdown",
   "id": "b85876d7-739d-4517-b6e4-c9b017a98a99",
   "metadata": {},
   "source": [
    "# Use Cases"
   ]
  },
  {
   "cell_type": "markdown",
   "id": "f426fbd8-46df-4ced-8ee3-f91359b5e923",
   "metadata": {},
   "source": [
    "***"
   ]
  },
  {
   "cell_type": "markdown",
   "id": "113b317a-0629-4c90-b5f7-73afcf5867d5",
   "metadata": {},
   "source": [
    "**Data Collection and Management:** Arrays are ideal for collecting and managing sets of data, such as user inputs, records from a database, or any set of values. They provide a structured way to store and access this data."
   ]
  },
  {
   "cell_type": "markdown",
   "id": "c7eb6182-db0f-4496-88c8-045e6db73fde",
   "metadata": {},
   "source": [
    "**Data Manipulation:** You can perform various operation on arrays like sorting, filtering, and mapping to manipulate data. For instance, sorting user data based on criteria, filtering a list of products based on catagires, or transforming data into a new format for presentation."
   ]
  },
  {
   "cell_type": "markdown",
   "id": "7966a20f-2a8c-4a8d-b305-b992c9aa0ccd",
   "metadata": {},
   "source": [
    "**Mathematical Computations:** Arrays can store numerical data and are useful in mathematical computations. You cann use them for statistical analysis, such as calculating averages, sums, or other complex mathematical operations."
   ]
  },
  {
   "cell_type": "markdown",
   "id": "0d26a032-524c-42c5-9253-f22df8520a1e",
   "metadata": {},
   "source": [
    "**UI Components:** In web development, arrays are often used to manage lists of UI elements. For example, displaying a list of items in a dropdown menu, a table of data, or a carousel of images."
   ]
  },
  {
   "cell_type": "markdown",
   "id": "96822372-5980-45cf-90c5-4555034c41e6",
   "metadata": {},
   "source": [
    "**Stacks and Queues Implementation:** Arrays can be used to implement other data structures like stacks and queues. For example, using push and pop methods for stack operations, and shift and push for queue operations."
   ]
  },
  {
   "cell_type": "markdown",
   "id": "316f75b6-74b3-46ac-8d3d-748de73f30a5",
   "metadata": {},
   "source": [
    "**Graphs and Trees Data Structure:** Arrays can represent more complex data structures like graphs (as adjacency lists or matrices) and trees (like binary trees, where each element has references to its children)."
   ]
  },
  {
   "cell_type": "markdown",
   "id": "8be7a3f0-9c8a-4630-91ea-22107953e5db",
   "metadata": {},
   "source": [
    "**Algorithms Implementation:** Arrays are fundamental in implementing various algorithms, especially those involving sorting and searching. They are often the unnderlying data structure used to store data during these operations."
   ]
  },
  {
   "cell_type": "markdown",
   "id": "e68eaba0-50d2-4c01-b8ee-034aa62e6daf",
   "metadata": {},
   "source": [
    "**Combining and Splitting Data:** Using methods like concat, slice and splice, arrays can be easily combined, partitionned, or reordered, which is useful in many applications like data processinng or handling user-generated content."
   ]
  },
  {
   "cell_type": "markdown",
   "id": "12696bb4-51bd-4a1a-ab6e-8dc35729d0b6",
   "metadata": {},
   "source": [
    "**Temporary Storage:** Arrays are useful as a temporary storage mechanism when processing or manipulatinng data. For example, storing the results of intermediate steps in a complex calculation or algorithm."
   ]
  },
  {
   "cell_type": "markdown",
   "id": "34725c52-934e-4bb4-be6f-c8fb8bfda822",
   "metadata": {},
   "source": [
    "**Multi-Dimensional Data:** Arrays can store multi-dimensional data, making them useful for scenarios like representing matrices inn mathematical computations, pixel data in images, or multi-dimensional maps in games or simulations."
   ]
  },
  {
   "cell_type": "markdown",
   "id": "68a00945-9f33-4686-8d47-573d33f4fad6",
   "metadata": {},
   "source": [
    "**Functional Programming:** Arrays in JavaScript work well with functional programming concepts, using methods like map, filter, reduce, which allow for operationns onn arrays without mutating them."
   ]
  },
  {
   "cell_type": "markdown",
   "id": "0a8af2fb-c072-443b-9112-2ac23ab9edb4",
   "metadata": {},
   "source": [
    "**Batch Operations:** Performing operations on multiple items at once, like updatingn a set of records or applyingn a fuunction across multiple elements."
   ]
  }
 ],
 "metadata": {
  "kernelspec": {
   "display_name": "JavaScript (Node.js)",
   "language": "javascript",
   "name": "javascript"
  },
  "language_info": {
   "file_extension": ".js",
   "mimetype": "application/javascript",
   "name": "javascript",
   "version": "20.8.1"
  }
 },
 "nbformat": 4,
 "nbformat_minor": 5
}
