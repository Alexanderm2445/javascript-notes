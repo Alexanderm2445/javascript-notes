{
 "cells": [
  {
   "cell_type": "markdown",
   "id": "eb103c56-6725-4a4c-b60e-5b26d2d4463a",
   "metadata": {},
   "source": [
    "# Loops in JavaScript\n",
    "***"
   ]
  },
  {
   "cell_type": "markdown",
   "id": "4f74048b-f92f-42bc-82dc-ffaa4e70e716",
   "metadata": {},
   "source": [
    "Documentation located [here](https://developer.mozilla.org/en-US/docs/Web/JavaScript/Guide/Loops_and_iteration)."
   ]
  },
  {
   "cell_type": "markdown",
   "id": "d5e3cdb9-6921-4263-a82d-daa405c1c6f8",
   "metadata": {},
   "source": [
    "**The Purpose of Loops**"
   ]
  },
  {
   "cell_type": "markdown",
   "id": "efb77728-c4f6-4acf-aa77-3a618b2b165f",
   "metadata": {},
   "source": [
    "Loops are fundamental constructs in programming used to automate repetitive tasks,\n",
    "thereby making code more efficient and less cluttered. They are particularly useful in various\n",
    "scenarios, such as processing lists or arrays, repeating actions, or handling user inputs. Loops\n",
    "typically utilize an iterator variable, which tracks the state or progress of the loop. This\n",
    "iterator is often integral to the condition that determines when the loop starts and stops. By\n",
    "evaluating this condition, the loop can execute its code block repeatedly until the specified\n",
    "condition is no longer met.<br> <br>\n",
    "Iterator variables can have any name, yet often are represented by the letter i or another\n",
    "short letter. <br> <br>\n",
    "Note that in loops we often have a condition to change or modify the condition. <br> <br>\n",
    "Loops, like most logic in programming can be evaluating to `True` or `False`."
   ]
  },
  {
   "cell_type": "markdown",
   "id": "91bb674a-d006-4710-b66a-7a1c65abe2ae",
   "metadata": {},
   "source": [
    "## Types of Loops\n",
    "***"
   ]
  },
  {
   "cell_type": "markdown",
   "id": "53ba3d9e-49a5-4038-be7f-36254d41e01f",
   "metadata": {},
   "source": [
    "**While Loops**"
   ]
  },
  {
   "cell_type": "markdown",
   "id": "e8595483-f01a-48fb-9aad-24479e005672",
   "metadata": {},
   "source": [
    "A \"While\" Loop is used to repeat a specific block of code an **unknown** number of times, until\n",
    "a condition is met. For example, if we want to ask a user for a number between 1 and 10, we\n",
    "don't know how many times the user may enter a larger number, so we keep asking \"while\n",
    "the number is not between 1 and 10\". If we (or the computer) knows exactly how many times\n",
    "to execute a section of code (such as shuffling a deck of cards) we use a for loop."
   ]
  },
  {
   "cell_type": "code",
   "execution_count": 6,
   "id": "72bf5c20-e2bb-4ae9-b053-277db0d1a4c5",
   "metadata": {},
   "outputs": [
    {
     "name": "stdout",
     "output_type": "stream",
     "text": [
      "1s\u0000e\u0000.\u0000l\u0000o\u0000g\u0000g dogs\n",
      "2s\u0000e\u0000.\u0000l\u0000o\u0000g\u0000g dogs\n",
      "3s\u0000e\u0000.\u0000l\u0000o\u0000g\u0000g dogs\n",
      "4s\u0000e\u0000.\u0000l\u0000o\u0000g\u0000g dogs\n"
     ]
    },
    {
     "data": {
      "text/plain": [
       "4"
      ]
     },
     "execution_count": 6,
     "metadata": {},
     "output_type": "execute_result"
    }
   ],
   "source": [
    "//This loop just counts from 1 to 4 and prints out the loops iterator variable values.\n",
    "\n",
    "let doggos = 1;\n",
    "while (doggos < 5){\n",
    "    console.log(doggos + \"s\u0000e\u0000.\u0000l\u0000o\u0000g\u0000g dogs\");\n",
    "    doggos++;\n",
    "}"
   ]
  },
  {
   "cell_type": "markdown",
   "id": "64a96aea-77c3-46b2-b6e7-3da780348c4b",
   "metadata": {},
   "source": [
    "Note: Please note the `doggos++` which is incrementing the value of `doggos`. Without this, this while\n",
    "loop would be stuck forever, since the condition is not being changed or satisfied."
   ]
  },
  {
   "cell_type": "code",
   "execution_count": 9,
   "id": "ea4aae89-a7d3-42e8-9d8a-f317d0399613",
   "metadata": {},
   "outputs": [
    {
     "name": "stdout",
     "output_type": "stream",
     "text": [
      "10\n",
      "9\n",
      "8\n",
      "7\n",
      "6\n",
      "5\n",
      "4\n",
      "3\n",
      "2\n",
      "1\n"
     ]
    },
    {
     "data": {
      "text/plain": [
       "1"
      ]
     },
     "execution_count": 9,
     "metadata": {},
     "output_type": "execute_result"
    }
   ],
   "source": [
    "//Counts down from a number. The -- is decrementing the value as opposed to ++.\n",
    "let decrement = 10;\n",
    "\n",
    "while (decrement > 0){\n",
    "    console.log(decrement);\n",
    "    decrement--;\n",
    "}"
   ]
  },
  {
   "cell_type": "code",
   "execution_count": 15,
   "id": "2302f729-0ab1-4706-ad77-9428724c1dcc",
   "metadata": {},
   "outputs": [
    {
     "name": "stdout",
     "output_type": "stream",
     "text": [
      "Sum is:  0\n"
     ]
    }
   ],
   "source": [
    "//Calculates the sum of a number from 1 to 10.\n",
    "let summ = 0;\n",
    "let numberr = 1;\n",
    "while (number <= 10) {\n",
    "    summ += numberr; //Same as sum = sum + number\n",
    "    numberr++;\n",
    "}\n",
    "console.log(\"Sum is: \", summ);"
   ]
  },
  {
   "cell_type": "markdown",
   "id": "de3e7b3e-ae21-4a2d-82b5-98322f91e886",
   "metadata": {},
   "source": [
    "**For Loops**"
   ]
  },
  {
   "cell_type": "markdown",
   "id": "a792dba0-adea-477f-8959-505916ed16e5",
   "metadata": {},
   "source": [
    "A \"For\" Loop is used to repeat a specific block of code a **known** number of times. For example, if we want to check the grade of every student in the class, we loop from 1 to that number. When the number of times is not known beforehand, we use a \"While\" loop."
   ]
  },
  {
   "cell_type": "markdown",
   "id": "9ed8ee34-9ce9-40bc-a859-3e6c91e04a29",
   "metadata": {},
   "source": [
    "To reiterate, the \"For\" loop is used to repeat a section of code a **known** nnuumber of times. Sometimes it is the computer that knows how many times, not you, but it is still known. Some examples:"
   ]
  },
  {
   "cell_type": "markdown",
   "id": "b7068d1c-12d0-4311-8166-96275f235b1e",
   "metadata": {},
   "source": [
    "*Unknown number of times:*"
   ]
  },
  {
   "cell_type": "markdown",
   "id": "9fc7531d-ac9a-406c-9cb7-7540299f0e4e",
   "metadata": {},
   "source": [
    "\"Ask the User to guess a pre-determined number between 1 and 100.\" You have no way of knowing how many guesses it will take."
   ]
  },
  {
   "cell_type": "markdown",
   "id": "6337555b-03c2-4993-acc3-6cebff5e5bbb",
   "metadata": {},
   "source": [
    "\"Randomly look in an array for a given value.\" You have no way of knowing how many tries it will take for to find the actual value."
   ]
  },
  {
   "cell_type": "markdown",
   "id": "599ad2a7-2828-4541-a7f0-56b12cfcaf2a",
   "metadata": {},
   "source": [
    "**Note:** *This is a made-up example, because you would never randomly look into an array to find a value. You would always start at the front of the array and look one element at a time until you found the item or got to the end of the array.*"
   ]
  },
  {
   "cell_type": "markdown",
   "id": "a38841ba-702e-4cc8-9d30-6f33696197be",
   "metadata": {},
   "source": [
    "*Known number of times:*"
   ]
  },
  {
   "cell_type": "markdown",
   "id": "12afe0d7-2de8-4f99-9487-e0107a211003",
   "metadata": {},
   "source": [
    "Compute the average grade of the class. While you (the programmer) might not knnow how many grades exist in the class, the computer will now. Usually this is accomplished by using the \"length\" function on an array."
   ]
  },
  {
   "cell_type": "markdown",
   "id": "091c1bda-b9a4-4f58-98c9-b8ccdb38e4fe",
   "metadata": {},
   "source": [
    "Print the odd numbers from 1 to 1001."
   ]
  },
  {
   "cell_type": "markdown",
   "id": "0fe8c460-5992-4643-b14b-eb32beb0edd0",
   "metadata": {},
   "source": [
    "Search a list (array) of numbers for the biggest grade. Again, the computer \"knows\" how manny grades there are, so a \"For\" loop is appropriate."
   ]
  },
  {
   "cell_type": "code",
   "execution_count": 16,
   "id": "53d0ef9e-70ea-4e93-8ddf-1e98f5b44e33",
   "metadata": {},
   "outputs": [
    {
     "name": "stdout",
     "output_type": "stream",
     "text": [
      "1\n",
      "2\n",
      "3\n",
      "4\n",
      "5\n"
     ]
    }
   ],
   "source": [
    "//Prints out `i` 5 times.\n",
    "for(let i = 1; i <= 5; i++) {\n",
    "    console.log(i);\n",
    "}"
   ]
  },
  {
   "cell_type": "markdown",
   "id": "6dea128f-af70-46b9-b020-6017f05959cb",
   "metadata": {},
   "source": [
    "Note that this will run for as long as the condition is false, as dictated by the iterator variable."
   ]
  },
  {
   "cell_type": "code",
   "execution_count": 17,
   "id": "857ec253-b095-4ac2-8d38-dffb9ed4eb7a",
   "metadata": {},
   "outputs": [
    {
     "name": "stdout",
     "output_type": "stream",
     "text": [
      "Pear located in the list\n"
     ]
    }
   ],
   "source": [
    "//Iterates through a list to check if the specified element is in the list.\n",
    "\n",
    "const fruits = [\"Apple\", \"Pear\", \"Cherry\", \"Date\"]\n",
    "\n",
    "for(let i = 0; i < fruits.length; i++) {\n",
    "    if(fruits[i] === \"Pear\"){\n",
    "        console.log(\"Pear located in the list\");\n",
    "    }\n",
    "}"
   ]
  },
  {
   "cell_type": "markdown",
   "id": "d1875ab5-d166-4199-885e-93766f07dab7",
   "metadata": {},
   "source": [
    "Note that we can look at the length of the list using the .length() list method. This is an easy way of telling the computer you want the length of the list. We can also use it to see how many items are in the list. Let's look at another example below."
   ]
  },
  {
   "cell_type": "code",
   "execution_count": 23,
   "id": "a0040ee0-6518-486c-ad07-acda34affc5f",
   "metadata": {},
   "outputs": [
    {
     "name": "stdout",
     "output_type": "stream",
     "text": [
      "3\n"
     ]
    }
   ],
   "source": [
    "let studentss = [\"Nicole\", \"Kye\", \"Leila\"];\n",
    "\n",
    "console.log(students.length);"
   ]
  },
  {
   "cell_type": "code",
   "execution_count": 21,
   "id": "78124ec4-be34-484c-846a-2630c60e2931",
   "metadata": {},
   "outputs": [
    {
     "name": "stdout",
     "output_type": "stream",
     "text": [
      "Nicole is student number 1\n",
      "Kye is student number 2\n",
      "Leila is student number 3\n"
     ]
    }
   ],
   "source": [
    "//Looks through a list of students andn lists what number each student is.\n",
    "let studentListt = [\"Nicole\", \"Kye\", \"Leila\"];\n",
    "\n",
    "for(let i = 0; i < studentListt.length; i++){\n",
    "    console.log(studentListt[i] + \" is student number \" + (i + 1));\n",
    "}"
   ]
  },
  {
   "cell_type": "code",
   "execution_count": 24,
   "id": "75fc3a65-7e8f-435d-8908-43059a027c6d",
   "metadata": {},
   "outputs": [
    {
     "name": "stdout",
     "output_type": "stream",
     "text": [
      "Total Sum: 150\n"
     ]
    }
   ],
   "source": [
    "//Sums list items\n",
    "let numbers = [10, 20, 30, 40, 50];\n",
    "let sum = 0;\n",
    "for (let i = 0; i < numbers.length; i++) {\n",
    "    sum += numbers[i];\n",
    "}\n",
    "console.log(\"Total Sum:\", sum);"
   ]
  },
  {
   "cell_type": "markdown",
   "id": "97ba14bc-ba0a-480b-aece-397c58c97c59",
   "metadata": {},
   "source": [
    "**do..while loops**"
   ]
  },
  {
   "cell_type": "markdown",
   "id": "a5bd13ce-90c8-491a-aff5-1f56d7b3f54f",
   "metadata": {},
   "source": [
    "Executes at least once, even if the condition is initially false."
   ]
  },
  {
   "cell_type": "code",
   "execution_count": 26,
   "id": "97e14e3b-5654-4572-a1ca-46467e5b4a7f",
   "metadata": {},
   "outputs": [
    {
     "name": "stdout",
     "output_type": "stream",
     "text": [
      "User Input: 0.03745337426946005\n",
      "User Input: 0.8454164240851931\n"
     ]
    }
   ],
   "source": [
    "//Takes an input, then prints out the userInput, this continues until a number less blah blah Mr. Cooper the text cuts off.\n",
    "let userInput;\n",
    "do {\n",
    "    userInput = Math.random(); //Simulate user input with random number.\n",
    "    console.log(\"User Input:\", userInput);\n",
    "} while (userInput < 0.5);"
   ]
  },
  {
   "cell_type": "code",
   "execution_count": 27,
   "id": "9af08cdf-51fe-4cf9-9f58-2ec358aa986e",
   "metadata": {},
   "outputs": [
    {
     "name": "stdout",
     "output_type": "stream",
     "text": [
      "Generated Number: 91\n",
      "Generated Number: 40\n"
     ]
    }
   ],
   "source": [
    "//Generatinng a random number until its even. Checking for an even nunmber with the m... blah blah blah blah.\n",
    "let randomNumber;\n",
    "\n",
    "do {\n",
    "    randomNumber = Math.floor(Math.random() * 100); //Random number between 0 and 100.\n",
    "    console.log(\"Generated Number:\", randomNumber);\n",
    "} while (randomNumber % 2 !== 0); //Continue if the number is odd."
   ]
  },
  {
   "cell_type": "markdown",
   "id": "f56402d7-0d78-48d4-81e9-596c3cd08af8",
   "metadata": {},
   "source": [
    "## Common Mistakes\n",
    "***"
   ]
  },
  {
   "cell_type": "markdown",
   "id": "85b60656-4f80-419d-adc9-521cc6689905",
   "metadata": {},
   "source": [
    "**Infinite Loops**"
   ]
  },
  {
   "cell_type": "markdown",
   "id": "e4e49f41-3b30-45c1-99b2-b87f76085935",
   "metadata": {},
   "source": [
    "* Occur when the loop's exit condition is never met.\n",
    "* Common in \"While\" and \"Do...while\" loops if the condition for exiting the loop is not properly updated within the loop."
   ]
  },
  {
   "cell_type": "markdown",
   "id": "e6588280-68af-4f8f-9f25-cdb36f969683",
   "metadata": {},
   "source": [
    "**Example:**"
   ]
  },
  {
   "cell_type": "code",
   "execution_count": null,
   "id": "32681fc1-7f35-4a83-b098-aaa123027aea",
   "metadata": {},
   "outputs": [],
   "source": [
    "let x = 5;\n",
    "while(x < 5) {\n",
    "    console.log(\"I will print forever\");\n",
    "}"
   ]
  },
  {
   "cell_type": "markdown",
   "id": "d2ce91dd-1861-4278-91c9-f4b5c71efcca",
   "metadata": {},
   "source": [
    "**Off By One Errors**"
   ]
  },
  {
   "cell_type": "markdown",
   "id": "e6ff11b7-b959-425a-888e-56c7aa7eb3ae",
   "metadata": {},
   "source": [
    "* Incorrectly setting loop boundaries, causing one too many or too few iterations."
   ]
  },
  {
   "cell_type": "code",
   "execution_count": null,
   "id": "58d37f65-d5ba-4c59-9635-4addc63ea5ba",
   "metadata": {},
   "outputs": [],
   "source": [
    "// Off-by-one error: iterates one extra time\n",
    "let array = [1, 2, 3, 4, 5];\n",
    "for (let i = 0; i <= array.length; i++) {\n",
    "    console.log(array[i]);\n",
    "}"
   ]
  },
  {
   "cell_type": "markdown",
   "id": "a08ecd96-d1ac-4f30-9f7a-8ec49a948238",
   "metadata": {},
   "source": [
    "**Unintended Scope of Variables**"
   ]
  },
  {
   "cell_type": "code",
   "execution_count": null,
   "id": "508a7e23-3232-48c2-861f-013f262e3b02",
   "metadata": {},
   "outputs": [],
   "source": [
    "// Variable 'i' should be accessible outside the loop\n",
    "for (let i = 0; i < 5; i++) {\n",
    "    // Loop Logic\n",
    "}\n",
    "console.log(i); // Error 'i' is not defined, it doesn't exist outside the loop."
   ]
  },
  {
   "cell_type": "markdown",
   "id": "9c6d8502-bd75-4d7b-85bf-48a3d32f234e",
   "metadata": {},
   "source": [
    "**Misunderstanding Loop Conditions**"
   ]
  },
  {
   "cell_type": "markdown",
   "id": "27ddfcaf-b970-42d1-9564-a16326a8866c",
   "metadata": {},
   "source": [
    "This happens when you confuse assignment and comparison operators."
   ]
  },
  {
   "cell_type": "code",
   "execution_count": null,
   "id": "b5b552f1-416c-400e-b5d3-657a0331279a",
   "metadata": {},
   "outputs": [],
   "source": [
    "let i = 0;\n",
    "while (i = 5) { //Mistakenly using assignment '=' instead of '=='\n",
    "    //Loop Logic\n",
    "}"
   ]
  },
  {
   "cell_type": "markdown",
   "id": "e93cf304-b290-4fd3-8adc-72a0fe0e6052",
   "metadata": {},
   "source": [
    "## Best Practices\n",
    "***"
   ]
  },
  {
   "cell_type": "markdown",
   "id": "30b527af-6d50-4759-9257-9b3cf2e8bb59",
   "metadata": {},
   "source": [
    "**Clearly Define Loop Conditions:**\n",
    "* Ensure loop conditions are explicit to avoid infinite loops.\n",
    "* Regularly update the condition within the loop as needed.\n",
    "<br> <br> **Use the Most Appropriate Loop Type:**\n",
    "* Choose for loops for known iteration counts.\n",
    "* Opt for while loops when the number of iterations is not predetermined\n",
    "* Use do...while loops when the loop body must execute at least once.\n",
    "<br> <br>**Properly Initialize Loop Variables:** \n",
    "* Declare and initialize all loop control variables clearly\n",
    "* Consider the scope of these variables, especially in for loops..\n",
    "<br> <br>**Keep Loop Bodies Simple and Clear:**\n",
    "* Avoid overcomplicating the code inside loops.\n",
    "* Strive for readability and maintainability.\n",
    "<br> <br>**Avoid 'Magic Numbers':**\n",
    "* Use named constants or variables instead of hard-coded numbers in loop conditions.\n",
    "* This enhances the readability and adaptability of the code.\n",
    "<br> <br>**Comment and Document Complex Loops:**\n",
    "* Provide clear comments for complex loop logic to aid understanding and future maintenance.\n",
    "* Describe the purpose and functionality of the loop.\n",
    "<br> <br>**Test Loops with Edge Cases:**\n",
    "* Ensure loops are tested with a variety of inputs, including boundary values and edge cases.\n",
    "* This helps to confirm the loop behaves as expected in all scenarios.\n",
    "<br> <br>**Refactor and Optimize When Necessary:**\n",
    "* Revisit and refactor loop logic for efficiency and clarity.\n",
    "* Consider alternative approaches if a loop seems overly complex or inefficient."
   ]
  },
  {
   "cell_type": "markdown",
   "id": "68b33bca-ff3a-4a54-bfe4-ecac729e5454",
   "metadata": {},
   "source": []
  },
  {
   "cell_type": "markdown",
   "id": "c7f085cf-2f5c-488f-b0ef-1b784e7b1c7d",
   "metadata": {},
   "source": []
  }
 ],
 "metadata": {
  "kernelspec": {
   "display_name": "JavaScript (Node.js)",
   "language": "javascript",
   "name": "javascript"
  },
  "language_info": {
   "file_extension": ".js",
   "mimetype": "application/javascript",
   "name": "javascript",
   "version": "20.8.1"
  }
 },
 "nbformat": 4,
 "nbformat_minor": 5
}
